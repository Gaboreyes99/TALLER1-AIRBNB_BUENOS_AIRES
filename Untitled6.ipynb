{
 "cells": [
  {
   "cell_type": "code",
   "execution_count": 1,
   "id": "1dd0b0af",
   "metadata": {},
   "outputs": [],
   "source": [
    "import pandas as pd\n",
    "import numpy as np\n",
    "import matplotlib.pyplot as plt\n"
   ]
  },
  {
   "cell_type": "code",
   "execution_count": 2,
   "id": "7f450b97",
   "metadata": {},
   "outputs": [],
   "source": [
    "calendar = pd.read_csv('calendar.csv')\n",
    "vecindarios = pd.read_csv('vecindarios.csv')\n",
    "listings = pd.read_csv('listings.csv')\n",
    "reviews = pd.read_csv('reviews.csv')\n",
    "listings1 = pd.read_csv('listings1.csv')\n",
    "reviews1 = pd.read_csv('reviews1.csv')\n"
   ]
  },
  {
   "cell_type": "code",
   "execution_count": 3,
   "id": "05000dcd",
   "metadata": {},
   "outputs": [
    {
     "data": {
      "text/html": [
       "<div>\n",
       "<style scoped>\n",
       "    .dataframe tbody tr th:only-of-type {\n",
       "        vertical-align: middle;\n",
       "    }\n",
       "\n",
       "    .dataframe tbody tr th {\n",
       "        vertical-align: top;\n",
       "    }\n",
       "\n",
       "    .dataframe thead th {\n",
       "        text-align: right;\n",
       "    }\n",
       "</style>\n",
       "<table border=\"1\" class=\"dataframe\">\n",
       "  <thead>\n",
       "    <tr style=\"text-align: right;\">\n",
       "      <th></th>\n",
       "      <th>listing_id</th>\n",
       "      <th>id</th>\n",
       "      <th>date</th>\n",
       "      <th>reviewer_id</th>\n",
       "      <th>reviewer_name</th>\n",
       "      <th>comments</th>\n",
       "    </tr>\n",
       "  </thead>\n",
       "  <tbody>\n",
       "    <tr>\n",
       "      <th>0</th>\n",
       "      <td>11508</td>\n",
       "      <td>1615861</td>\n",
       "      <td>2012-07-02</td>\n",
       "      <td>877808</td>\n",
       "      <td>Charlie</td>\n",
       "      <td>Amazing place!\\r&lt;br/&gt;\\r&lt;br/&gt;Location: short wa...</td>\n",
       "    </tr>\n",
       "    <tr>\n",
       "      <th>1</th>\n",
       "      <td>11508</td>\n",
       "      <td>3157005</td>\n",
       "      <td>2012-12-26</td>\n",
       "      <td>656077</td>\n",
       "      <td>Shaily</td>\n",
       "      <td>Really enjoyed Candela's recommendations and q...</td>\n",
       "    </tr>\n",
       "    <tr>\n",
       "      <th>2</th>\n",
       "      <td>11508</td>\n",
       "      <td>3281011</td>\n",
       "      <td>2013-01-05</td>\n",
       "      <td>2835998</td>\n",
       "      <td>Michiel</td>\n",
       "      <td>Candela and her colleague were very attentive ...</td>\n",
       "    </tr>\n",
       "    <tr>\n",
       "      <th>3</th>\n",
       "      <td>11508</td>\n",
       "      <td>6050019</td>\n",
       "      <td>2013-07-28</td>\n",
       "      <td>4600436</td>\n",
       "      <td>Tara</td>\n",
       "      <td>The apartment was in a beautiful, modern build...</td>\n",
       "    </tr>\n",
       "    <tr>\n",
       "      <th>4</th>\n",
       "      <td>11508</td>\n",
       "      <td>9328455</td>\n",
       "      <td>2013-12-22</td>\n",
       "      <td>3130017</td>\n",
       "      <td>Simon</td>\n",
       "      <td>My stay at Candela's apartment was very enjoya...</td>\n",
       "    </tr>\n",
       "  </tbody>\n",
       "</table>\n",
       "</div>"
      ],
      "text/plain": [
       "   listing_id       id        date  reviewer_id reviewer_name  \\\n",
       "0       11508  1615861  2012-07-02       877808       Charlie   \n",
       "1       11508  3157005  2012-12-26       656077        Shaily   \n",
       "2       11508  3281011  2013-01-05      2835998       Michiel   \n",
       "3       11508  6050019  2013-07-28      4600436          Tara   \n",
       "4       11508  9328455  2013-12-22      3130017         Simon   \n",
       "\n",
       "                                            comments  \n",
       "0  Amazing place!\\r<br/>\\r<br/>Location: short wa...  \n",
       "1  Really enjoyed Candela's recommendations and q...  \n",
       "2  Candela and her colleague were very attentive ...  \n",
       "3  The apartment was in a beautiful, modern build...  \n",
       "4  My stay at Candela's apartment was very enjoya...  "
      ]
     },
     "execution_count": 3,
     "metadata": {},
     "output_type": "execute_result"
    }
   ],
   "source": [
    "calendar.head()\n",
    "vecindarios.head()\n",
    "listings.head()\n",
    "reviews.head()\n",
    "listings1.head()\n",
    "reviews1.head()\n"
   ]
  },
  {
   "cell_type": "code",
   "execution_count": 4,
   "id": "6f58f3f9",
   "metadata": {},
   "outputs": [
    {
     "data": {
      "text/html": [
       "<div>\n",
       "<style scoped>\n",
       "    .dataframe tbody tr th:only-of-type {\n",
       "        vertical-align: middle;\n",
       "    }\n",
       "\n",
       "    .dataframe tbody tr th {\n",
       "        vertical-align: top;\n",
       "    }\n",
       "\n",
       "    .dataframe thead th {\n",
       "        text-align: right;\n",
       "    }\n",
       "</style>\n",
       "<table border=\"1\" class=\"dataframe\">\n",
       "  <thead>\n",
       "    <tr style=\"text-align: right;\">\n",
       "      <th></th>\n",
       "      <th>listing_id</th>\n",
       "      <th>date</th>\n",
       "      <th>available</th>\n",
       "      <th>price</th>\n",
       "      <th>adjusted_price</th>\n",
       "      <th>minimum_nights</th>\n",
       "      <th>maximum_nights</th>\n",
       "    </tr>\n",
       "  </thead>\n",
       "  <tbody>\n",
       "    <tr>\n",
       "      <th>0</th>\n",
       "      <td>11508</td>\n",
       "      <td>2023-06-29</td>\n",
       "      <td>f</td>\n",
       "      <td>$16,608.00</td>\n",
       "      <td>$16,608.00</td>\n",
       "      <td>3.0</td>\n",
       "      <td>1125.0</td>\n",
       "    </tr>\n",
       "    <tr>\n",
       "      <th>1</th>\n",
       "      <td>11508</td>\n",
       "      <td>2023-06-30</td>\n",
       "      <td>f</td>\n",
       "      <td>$19,163.00</td>\n",
       "      <td>$19,163.00</td>\n",
       "      <td>3.0</td>\n",
       "      <td>1125.0</td>\n",
       "    </tr>\n",
       "    <tr>\n",
       "      <th>2</th>\n",
       "      <td>11508</td>\n",
       "      <td>2023-07-01</td>\n",
       "      <td>f</td>\n",
       "      <td>$19,163.00</td>\n",
       "      <td>$19,163.00</td>\n",
       "      <td>3.0</td>\n",
       "      <td>1125.0</td>\n",
       "    </tr>\n",
       "    <tr>\n",
       "      <th>3</th>\n",
       "      <td>11508</td>\n",
       "      <td>2023-07-02</td>\n",
       "      <td>f</td>\n",
       "      <td>$16,608.00</td>\n",
       "      <td>$16,608.00</td>\n",
       "      <td>3.0</td>\n",
       "      <td>1125.0</td>\n",
       "    </tr>\n",
       "    <tr>\n",
       "      <th>4</th>\n",
       "      <td>11508</td>\n",
       "      <td>2023-07-03</td>\n",
       "      <td>f</td>\n",
       "      <td>$16,608.00</td>\n",
       "      <td>$16,608.00</td>\n",
       "      <td>3.0</td>\n",
       "      <td>1125.0</td>\n",
       "    </tr>\n",
       "  </tbody>\n",
       "</table>\n",
       "</div>"
      ],
      "text/plain": [
       "   listing_id        date available       price adjusted_price  \\\n",
       "0       11508  2023-06-29         f  $16,608.00     $16,608.00   \n",
       "1       11508  2023-06-30         f  $19,163.00     $19,163.00   \n",
       "2       11508  2023-07-01         f  $19,163.00     $19,163.00   \n",
       "3       11508  2023-07-02         f  $16,608.00     $16,608.00   \n",
       "4       11508  2023-07-03         f  $16,608.00     $16,608.00   \n",
       "\n",
       "   minimum_nights  maximum_nights  \n",
       "0             3.0          1125.0  \n",
       "1             3.0          1125.0  \n",
       "2             3.0          1125.0  \n",
       "3             3.0          1125.0  \n",
       "4             3.0          1125.0  "
      ]
     },
     "execution_count": 4,
     "metadata": {},
     "output_type": "execute_result"
    }
   ],
   "source": [
    "calendar.head()"
   ]
  },
  {
   "cell_type": "code",
   "execution_count": 5,
   "id": "a43b5991",
   "metadata": {},
   "outputs": [
    {
     "data": {
      "text/html": [
       "<div>\n",
       "<style scoped>\n",
       "    .dataframe tbody tr th:only-of-type {\n",
       "        vertical-align: middle;\n",
       "    }\n",
       "\n",
       "    .dataframe tbody tr th {\n",
       "        vertical-align: top;\n",
       "    }\n",
       "\n",
       "    .dataframe thead th {\n",
       "        text-align: right;\n",
       "    }\n",
       "</style>\n",
       "<table border=\"1\" class=\"dataframe\">\n",
       "  <thead>\n",
       "    <tr style=\"text-align: right;\">\n",
       "      <th></th>\n",
       "      <th>date</th>\n",
       "      <th>available</th>\n",
       "      <th>price</th>\n",
       "      <th>adjusted_price</th>\n",
       "    </tr>\n",
       "  </thead>\n",
       "  <tbody>\n",
       "    <tr>\n",
       "      <th>count</th>\n",
       "      <td>9564447</td>\n",
       "      <td>9564447</td>\n",
       "      <td>9564447</td>\n",
       "      <td>9564447</td>\n",
       "    </tr>\n",
       "    <tr>\n",
       "      <th>unique</th>\n",
       "      <td>366</td>\n",
       "      <td>2</td>\n",
       "      <td>6615</td>\n",
       "      <td>8823</td>\n",
       "    </tr>\n",
       "    <tr>\n",
       "      <th>top</th>\n",
       "      <td>2023-06-29</td>\n",
       "      <td>t</td>\n",
       "      <td>$8,917.00</td>\n",
       "      <td>$8,917.00</td>\n",
       "    </tr>\n",
       "    <tr>\n",
       "      <th>freq</th>\n",
       "      <td>26204</td>\n",
       "      <td>5609634</td>\n",
       "      <td>285010</td>\n",
       "      <td>273264</td>\n",
       "    </tr>\n",
       "  </tbody>\n",
       "</table>\n",
       "</div>"
      ],
      "text/plain": [
       "              date available      price adjusted_price\n",
       "count      9564447   9564447    9564447        9564447\n",
       "unique         366         2       6615           8823\n",
       "top     2023-06-29         t  $8,917.00      $8,917.00\n",
       "freq         26204   5609634     285010         273264"
      ]
     },
     "execution_count": 5,
     "metadata": {},
     "output_type": "execute_result"
    }
   ],
   "source": [
    "calendar.describe(include=['O'])"
   ]
  },
  {
   "cell_type": "code",
   "execution_count": 6,
   "id": "600b177b",
   "metadata": {},
   "outputs": [
    {
     "data": {
      "text/html": [
       "<div>\n",
       "<style scoped>\n",
       "    .dataframe tbody tr th:only-of-type {\n",
       "        vertical-align: middle;\n",
       "    }\n",
       "\n",
       "    .dataframe tbody tr th {\n",
       "        vertical-align: top;\n",
       "    }\n",
       "\n",
       "    .dataframe thead th {\n",
       "        text-align: right;\n",
       "    }\n",
       "</style>\n",
       "<table border=\"1\" class=\"dataframe\">\n",
       "  <thead>\n",
       "    <tr style=\"text-align: right;\">\n",
       "      <th></th>\n",
       "      <th>listing_id</th>\n",
       "      <th>minimum_nights</th>\n",
       "      <th>maximum_nights</th>\n",
       "    </tr>\n",
       "  </thead>\n",
       "  <tbody>\n",
       "    <tr>\n",
       "      <th>count</th>\n",
       "      <td>9.564447e+06</td>\n",
       "      <td>9.564415e+06</td>\n",
       "      <td>9.564415e+06</td>\n",
       "    </tr>\n",
       "    <tr>\n",
       "      <th>mean</th>\n",
       "      <td>4.208753e+17</td>\n",
       "      <td>6.253008e+00</td>\n",
       "      <td>5.743989e+05</td>\n",
       "    </tr>\n",
       "    <tr>\n",
       "      <th>std</th>\n",
       "      <td>3.952350e+17</td>\n",
       "      <td>2.251984e+01</td>\n",
       "      <td>3.509441e+07</td>\n",
       "    </tr>\n",
       "    <tr>\n",
       "      <th>min</th>\n",
       "      <td>1.150800e+04</td>\n",
       "      <td>1.000000e+00</td>\n",
       "      <td>1.000000e+00</td>\n",
       "    </tr>\n",
       "    <tr>\n",
       "      <th>25%</th>\n",
       "      <td>3.307263e+07</td>\n",
       "      <td>2.000000e+00</td>\n",
       "      <td>3.650000e+02</td>\n",
       "    </tr>\n",
       "    <tr>\n",
       "      <th>50%</th>\n",
       "      <td>6.043267e+17</td>\n",
       "      <td>3.000000e+00</td>\n",
       "      <td>1.125000e+03</td>\n",
       "    </tr>\n",
       "    <tr>\n",
       "      <th>75%</th>\n",
       "      <td>8.078057e+17</td>\n",
       "      <td>4.000000e+00</td>\n",
       "      <td>1.125000e+03</td>\n",
       "    </tr>\n",
       "    <tr>\n",
       "      <th>max</th>\n",
       "      <td>9.232677e+17</td>\n",
       "      <td>1.000000e+03</td>\n",
       "      <td>2.147484e+09</td>\n",
       "    </tr>\n",
       "  </tbody>\n",
       "</table>\n",
       "</div>"
      ],
      "text/plain": [
       "         listing_id  minimum_nights  maximum_nights\n",
       "count  9.564447e+06    9.564415e+06    9.564415e+06\n",
       "mean   4.208753e+17    6.253008e+00    5.743989e+05\n",
       "std    3.952350e+17    2.251984e+01    3.509441e+07\n",
       "min    1.150800e+04    1.000000e+00    1.000000e+00\n",
       "25%    3.307263e+07    2.000000e+00    3.650000e+02\n",
       "50%    6.043267e+17    3.000000e+00    1.125000e+03\n",
       "75%    8.078057e+17    4.000000e+00    1.125000e+03\n",
       "max    9.232677e+17    1.000000e+03    2.147484e+09"
      ]
     },
     "execution_count": 6,
     "metadata": {},
     "output_type": "execute_result"
    }
   ],
   "source": [
    "calendar.describe()"
   ]
  },
  {
   "cell_type": "code",
   "execution_count": 7,
   "id": "8786ba0f",
   "metadata": {},
   "outputs": [
    {
     "data": {
      "text/plain": [
       "Index(['listing_id', 'date', 'available', 'price', 'adjusted_price',\n",
       "       'minimum_nights', 'maximum_nights'],\n",
       "      dtype='object')"
      ]
     },
     "execution_count": 7,
     "metadata": {},
     "output_type": "execute_result"
    }
   ],
   "source": [
    "calendar.columns"
   ]
  },
  {
   "cell_type": "code",
   "execution_count": 8,
   "id": "526f988e",
   "metadata": {},
   "outputs": [
    {
     "data": {
      "text/plain": [
       "price          adjusted_price\n",
       "$1,000,000.00  $1,000,000.00      365\n",
       "$1,000.00      $1,000.00         1097\n",
       "$1,022,024.00  $1,022,024.00       31\n",
       "$1,027,700.00  $904,376.00        199\n",
       "$1,049.00      $1,049.00          365\n",
       "                                 ... \n",
       "$99,818.00     $99,818.00         104\n",
       "$99,866.00     $99,866.00          65\n",
       "$99,903.00     $99,903.00          19\n",
       "$99,999.00     $99,999.00         333\n",
       "$999.00        $999.00            365\n",
       "Name: available, Length: 10453, dtype: int64"
      ]
     },
     "execution_count": 8,
     "metadata": {},
     "output_type": "execute_result"
    }
   ],
   "source": [
    "calendar.groupby(['price','adjusted_price']).count()['available']\n"
   ]
  },
  {
   "cell_type": "code",
   "execution_count": null,
   "id": "86f93aa4",
   "metadata": {},
   "outputs": [
    {
     "name": "stdout",
     "output_type": "stream",
     "text": [
      "price          adjusted_price\n",
      "$1,000,000.00  $1,000,000.00      365\n",
      "$1,000.00      $1,000.00         1097\n",
      "$1,022,024.00  $1,022,024.00       31\n",
      "$1,027,700.00  $904,376.00        199\n",
      "$1,049.00      $1,049.00          365\n",
      "                                 ... \n",
      "$99,818.00     $99,818.00         104\n",
      "$99,866.00     $99,866.00          65\n",
      "$99,903.00     $99,903.00          19\n",
      "$99,999.00     $99,999.00         333\n",
      "$999.00        $999.00            365\n",
      "Name: available, Length: 10453, dtype: int64\n"
     ]
    }
   ],
   "source": [
    "grouped_adjusted_price = calendar.groupby(['price','adjusted_price']).count()['available']\n",
    "print(grouped_adjusted_price)\n",
    "(grouped_adjusted_price.unstack(level=0).plot.bar())\n",
    "plt.show()\n"
   ]
  },
  {
   "cell_type": "code",
   "execution_count": null,
   "id": "ef1d0c99",
   "metadata": {},
   "outputs": [],
   "source": [
    "grouped_price = calendar.groupby(['price','adjusted_price']).count()['available']\n",
    "print(grouped_price)\n",
    "(grouped_price.unstack(level=0).plot.bar())\n",
    "plt.show()"
   ]
  }
 ],
 "metadata": {
  "kernelspec": {
   "display_name": "Python 3 (ipykernel)",
   "language": "python",
   "name": "python3"
  },
  "language_info": {
   "codemirror_mode": {
    "name": "ipython",
    "version": 3
   },
   "file_extension": ".py",
   "mimetype": "text/x-python",
   "name": "python",
   "nbconvert_exporter": "python",
   "pygments_lexer": "ipython3",
   "version": "3.11.4"
  }
 },
 "nbformat": 4,
 "nbformat_minor": 5
}
